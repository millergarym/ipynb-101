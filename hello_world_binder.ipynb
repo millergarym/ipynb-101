{
    "cells": [
        {
            "metadata": {
                "trusted": true
            },
            "id": "green-switzerland",
            "cell_type": "code",
            "source": "print(\"hw\")",
            "execution_count": null,
            "outputs": []
        }
    ],
    "metadata": {
        "celltoolbar": "Attachments",
        "kernelspec": {
            "name": "python3",
            "display_name": "Python 3",
            "language": "python"
        },
        "language_info": {
            "name": "python",
            "version": "3.6.13",
            "mimetype": "text/x-python",
            "codemirror_mode": {
                "name": "ipython",
                "version": 3
            },
            "pygments_lexer": "ipython3",
            "nbconvert_exporter": "python",
            "file_extension": ".py"
        }
    },
    "nbformat": 4,
    "nbformat_minor": 5
}
